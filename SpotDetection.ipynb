{
 "cells": [
  {
   "cell_type": "code",
   "execution_count": 1,
   "metadata": {},
   "outputs": [],
   "source": [
    "import cv2\n",
    "import numpy as np"
   ]
  },
  {
   "cell_type": "code",
   "execution_count": 2,
   "metadata": {},
   "outputs": [],
   "source": [
    "def RGB_avg(grid_RGB,cX,cY):\n",
    "    RGB = 0\n",
    "    for row in grid_RGB[cY-1:cY+2]:\n",
    "        for column in row[cX-1:cX+2]:\n",
    "            RGB += int(column[0])+int(column[1])+int(column[2])\n",
    "    return RGB"
   ]
  },
  {
   "cell_type": "code",
   "execution_count": 3,
   "metadata": {},
   "outputs": [
    {
     "name": "stdout",
     "output_type": "stream",
     "text": [
      "301 287\n",
      "1764\n",
      "340 283\n",
      "2355\n",
      "398 275\n",
      "2151\n",
      "366 299\n",
      "4846\n",
      "365 262\n",
      "6825\n",
      "0 0\n",
      "0\n",
      "0 0\n",
      "0\n",
      "308 202\n",
      "2114\n",
      "291 203\n",
      "1705\n",
      "338 201\n",
      "1930\n",
      "684 199\n",
      "3401\n",
      "225 166\n",
      "1438\n",
      "245 159\n",
      "2136\n",
      "16 146\n",
      "1623\n",
      "487 155\n",
      "2283\n",
      "Max: 365 262\n"
     ]
    }
   ],
   "source": [
    "img = cv2.imread('IMG_7863.jpg')\n",
    "grid_RGB = cv2.cvtColor(img,cv2.COLOR_BGR2RGB)\n",
    "grid_HSV = cv2.cvtColor(grid_RGB, cv2.COLOR_RGB2HSV)\n",
    "\n",
    "lower1 = np.array([0,100,100])\n",
    "upper1 = np.array([10,255,255])\n",
    "mask1 = cv2.inRange(grid_HSV, lower1, upper1)\n",
    "res1 = cv2.bitwise_and(grid_RGB, grid_RGB, mask=mask1)\n",
    "\n",
    "lower2 = np.array([156,100,100])\n",
    "upper2 = np.array([180,255,255])\n",
    "mask2 = cv2.inRange(grid_HSV, lower2, upper2)\n",
    "res2 = cv2.bitwise_and(grid_RGB, grid_RGB, mask=mask2)\n",
    "\n",
    "mask3 = mask1 + mask2\n",
    "\n",
    "mask3 = cv2.GaussianBlur(mask3,(5, 5), 0)\n",
    "ret, binaryMask = cv2.threshold(mask3, 100, 255, cv2.THRESH_BINARY);\n",
    "contours, hierarchy = cv2.findContours(binaryMask, cv2.RETR_TREE, cv2.CHAIN_APPROX_SIMPLE);\n",
    "cv2.imshow(\"img1\", img)\n",
    "max = 0\n",
    "maxX = 0\n",
    "maxY = 0\n",
    "for i in contours:\n",
    "    M = cv2.moments(i)\n",
    "    if M[\"m00\"] != 0:\n",
    "        cX = int(M[\"m10\"] / M[\"m00\"])\n",
    "        cY = int(M[\"m01\"] / M[\"m00\"])\n",
    "    else:\n",
    "        cX,cY = 0,0\n",
    "    print(cX,cY)\n",
    "    print(RGB_avg(grid_RGB,cX,cY))\n",
    "    if RGB_avg(grid_RGB,cX,cY) > max:\n",
    "        max = RGB_avg(grid_RGB,cX,cY)\n",
    "        maxX = cX\n",
    "        maxY = cY\n",
    "print(\"Max:\",maxX,maxY)\n",
    "cv2.circle(img,(maxX,maxY),1,(255,255,255),-1)\n",
    "cv2.putText(img, \"c\", (maxX -5, maxY - 5),cv2.FONT_HERSHEY_SIMPLEX, 0.5, (255, 255, 255), 2)\n",
    "cv2.imshow(\"mask3\", mask3)\n",
    "\n",
    "\n",
    "cv2.imshow(\"img2\", img)\n",
    "\n",
    "cv2.waitKey(0)\n",
    "cv2.destroyAllWindows()\n"
   ]
  },
  {
   "cell_type": "code",
   "execution_count": null,
   "metadata": {},
   "outputs": [],
   "source": []
  }
 ],
 "metadata": {
  "kernelspec": {
   "display_name": "Python 3",
   "language": "python",
   "name": "python3"
  },
  "language_info": {
   "codemirror_mode": {
    "name": "ipython",
    "version": 3
   },
   "file_extension": ".py",
   "mimetype": "text/x-python",
   "name": "python",
   "nbconvert_exporter": "python",
   "pygments_lexer": "ipython3",
   "version": "3.8.3"
  }
 },
 "nbformat": 4,
 "nbformat_minor": 4
}
